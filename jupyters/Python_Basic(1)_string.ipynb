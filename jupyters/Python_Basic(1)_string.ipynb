{
 "cells": [
  {
   "cell_type": "markdown",
   "metadata": {
    "toc": true
   },
   "source": [
    "<h1>Table of Contents<span class=\"tocSkip\"></span></h1>\n",
    "<div class=\"toc\"><ul class=\"toc-item\"><li><span><a href=\"#string编辑\" data-toc-modified-id=\"string编辑-1\"><span class=\"toc-item-num\">1&nbsp;&nbsp;</span>string编辑</a></span><ul class=\"toc-item\"><li><span><a href=\"#修整截断头尾strip()\" data-toc-modified-id=\"修整截断头尾strip()-1.1\"><span class=\"toc-item-num\">1.1&nbsp;&nbsp;</span>修整截断头尾strip()</a></span></li><li><span><a href=\"#右截断、左截断\" data-toc-modified-id=\"右截断、左截断-1.2\"><span class=\"toc-item-num\">1.2&nbsp;&nbsp;</span>右截断、左截断</a></span></li></ul></li><li><span><a href=\"#in-和-not-in-操作\" data-toc-modified-id=\"in-和-not-in-操作-2\"><span class=\"toc-item-num\">2&nbsp;&nbsp;</span><code>in</code> 和 <code>not in</code> 操作</a></span></li><li><span><a href=\"#The-upper(),-lower(),-isupper(),-islower()-string-methods\" data-toc-modified-id=\"The-upper(),-lower(),-isupper(),-islower()-string-methods-3\"><span class=\"toc-item-num\">3&nbsp;&nbsp;</span>The upper(), lower(), isupper(), islower() string methods</a></span></li><li><span><a href=\"#string-template-字符串模板\" data-toc-modified-id=\"string-template-字符串模板-4\"><span class=\"toc-item-num\">4&nbsp;&nbsp;</span>string template 字符串模板</a></span></li><li><span><a href=\"#Pyperclip\" data-toc-modified-id=\"Pyperclip-5\"><span class=\"toc-item-num\">5&nbsp;&nbsp;</span>Pyperclip</a></span></li><li><span><a href=\"#string编码和解码\" data-toc-modified-id=\"string编码和解码-6\"><span class=\"toc-item-num\">6&nbsp;&nbsp;</span>string编码和解码</a></span><ul class=\"toc-item\"><li><span><a href=\"#编码（bytes-to-string）\" data-toc-modified-id=\"编码（bytes-to-string）-6.1\"><span class=\"toc-item-num\">6.1&nbsp;&nbsp;</span>编码（bytes to string）</a></span><ul class=\"toc-item\"><li><span><a href=\"#chr(i)-buildin-function-将制定整数unicode编码返回对应的字符string\" data-toc-modified-id=\"chr(i)-buildin-function-将制定整数unicode编码返回对应的字符string-6.1.1\"><span class=\"toc-item-num\">6.1.1&nbsp;&nbsp;</span><code>chr(i)</code> buildin function 将制定整数unicode编码返回对应的字符string</a></span></li><li><span><a href=\"#bytes.decode(encoding=&quot;utf-8&quot;,-errors=&quot;strict&quot;)\" data-toc-modified-id=\"bytes.decode(encoding=&quot;utf-8&quot;,-errors=&quot;strict&quot;)-6.1.2\"><span class=\"toc-item-num\">6.1.2&nbsp;&nbsp;</span><code>bytes.decode(encoding=\"utf-8\", errors=\"strict\")</code></a></span></li><li><span><a href=\"#str(object=b'',-encoding='utf-8',-errors='strict')-buildin-function\" data-toc-modified-id=\"str(object=b'',-encoding='utf-8',-errors='strict')-buildin-function-6.1.3\"><span class=\"toc-item-num\">6.1.3&nbsp;&nbsp;</span><code>str(object=b'', encoding='utf-8', errors='strict')</code> buildin function</a></span></li></ul></li><li><span><a href=\"#解码（string--to-bytes）\" data-toc-modified-id=\"解码（string--to-bytes）-6.2\"><span class=\"toc-item-num\">6.2&nbsp;&nbsp;</span>解码（string  to bytes）</a></span><ul class=\"toc-item\"><li><span><a href=\"#ord(c)--buildin-function\" data-toc-modified-id=\"ord(c)--buildin-function-6.2.1\"><span class=\"toc-item-num\">6.2.1&nbsp;&nbsp;</span><code>ord(c)</code>  buildin function</a></span></li><li><span><a href=\"#str.encode(self,-/,-encoding='utf-8',-errors='strict')-将string返回默认utf8-unicode字节\" data-toc-modified-id=\"str.encode(self,-/,-encoding='utf-8',-errors='strict')-将string返回默认utf8-unicode字节-6.2.2\"><span class=\"toc-item-num\">6.2.2&nbsp;&nbsp;</span><code>str.encode(self, /, encoding='utf-8', errors='strict')</code> 将string返回默认utf8 unicode字节</a></span></li><li><span><a href=\"#class-bytes([source[,-encoding[,-errors]]])-buildin-function\" data-toc-modified-id=\"class-bytes([source[,-encoding[,-errors]]])-buildin-function-6.2.3\"><span class=\"toc-item-num\">6.2.3&nbsp;&nbsp;</span><code>class bytes([source[, encoding[, errors]]])</code> buildin function</a></span></li></ul></li></ul></li></ul></div>"
   ]
  },
  {
   "cell_type": "markdown",
   "metadata": {},
   "source": [
    "## string编辑\n",
    "### 修整截断头尾strip()"
   ]
  },
  {
   "cell_type": "markdown",
   "metadata": {},
   "source": [
    "`str.strip([chars])` 去掉字符串左右两端的空格，返回字新的字符串对象"
   ]
  },
  {
   "cell_type": "code",
   "execution_count": 1,
   "metadata": {},
   "outputs": [
    {
     "data": {
      "text/plain": [
       "'Everything is fine!'"
      ]
     },
     "execution_count": 1,
     "metadata": {},
     "output_type": "execute_result"
    }
   ],
   "source": [
    "'''\n",
    "Return a copy of the string with leading and trailing whitespace remove.\n",
    "If chars is given and not None, remove characters in chars instead.\n",
    "'''\n",
    "check = '    Everything is fine!     '\n",
    "check.strip()"
   ]
  },
  {
   "cell_type": "markdown",
   "metadata": {},
   "source": [
    "如果chars参数指定了，则从字符串两端计算删除指定的 chars 的成员"
   ]
  },
  {
   "cell_type": "code",
   "execution_count": 2,
   "metadata": {},
   "outputs": [
    {
     "data": {
      "text/plain": [
       "'rything is fin'"
      ]
     },
     "execution_count": 2,
     "metadata": {},
     "output_type": "execute_result"
    }
   ],
   "source": [
    "#删除字符串两端的[E][e][v][!][ ]\n",
    "check.strip('Eev! ')"
   ]
  },
  {
   "cell_type": "markdown",
   "metadata": {},
   "source": [
    "### 右截断、左截断\n",
    "- 右删除`str.rstrip([chars])`\n",
    "- 左删除`str.lstrip([chars])`"
   ]
  },
  {
   "cell_type": "markdown",
   "metadata": {},
   "source": [
    "## `in` 和 `not in` 操作"
   ]
  },
  {
   "cell_type": "code",
   "execution_count": 3,
   "metadata": {},
   "outputs": [
    {
     "data": {
      "text/plain": [
       "True"
      ]
     },
     "execution_count": 3,
     "metadata": {},
     "output_type": "execute_result"
    }
   ],
   "source": [
    "'Python' in 'Python is great!'"
   ]
  },
  {
   "cell_type": "code",
   "execution_count": 4,
   "metadata": {},
   "outputs": [
    {
     "data": {
      "text/plain": [
       "False"
      ]
     },
     "execution_count": 4,
     "metadata": {},
     "output_type": "execute_result"
    }
   ],
   "source": [
    "'PYTHON' in 'Python is great!'"
   ]
  },
  {
   "cell_type": "code",
   "execution_count": 5,
   "metadata": {},
   "outputs": [
    {
     "data": {
      "text/plain": [
       "True"
      ]
     },
     "execution_count": 5,
     "metadata": {},
     "output_type": "execute_result"
    }
   ],
   "source": [
    "'' in 'Python is great!'"
   ]
  },
  {
   "cell_type": "code",
   "execution_count": 6,
   "metadata": {},
   "outputs": [
    {
     "data": {
      "text/plain": [
       "False"
      ]
     },
     "execution_count": 6,
     "metadata": {},
     "output_type": "execute_result"
    }
   ],
   "source": [
    "'python' not in 'python and javascript' ## Matches case"
   ]
  },
  {
   "cell_type": "markdown",
   "metadata": {},
   "source": [
    "- The in and not in Operators with list"
   ]
  },
  {
   "cell_type": "code",
   "execution_count": 7,
   "metadata": {},
   "outputs": [
    {
     "data": {
      "text/plain": [
       "False"
      ]
     },
     "execution_count": 7,
     "metadata": {},
     "output_type": "execute_result"
    }
   ],
   "source": [
    "a = ['P', 'y', 't', 'h', 'o', 'n']\n",
    "'p' in a"
   ]
  },
  {
   "cell_type": "markdown",
   "metadata": {},
   "source": [
    "## The upper(), lower(), isupper(), islower() string methods"
   ]
  },
  {
   "cell_type": "markdown",
   "metadata": {},
   "source": [
    "## string template 字符串模板\n",
    "\n",
    "- 可以预先定义sting模板，然后给模板中的制定替换文字做文字替换操作"
   ]
  },
  {
   "cell_type": "code",
   "execution_count": 8,
   "metadata": {},
   "outputs": [
    {
     "data": {
      "text/plain": [
       "'Python is great! Dummy likes play with Python'"
      ]
     },
     "execution_count": 8,
     "metadata": {},
     "output_type": "execute_result"
    }
   ],
   "source": [
    "from string import Template #先引入 string.Template\n",
    "language = 'Python'\n",
    "t = Template('$lang is great! $name likes play with $lang')\n",
    "t.substitute(lang=language, name='Dummy') ## Substitutes name with language variable"
   ]
  },
  {
   "cell_type": "markdown",
   "metadata": {},
   "source": [
    "## Pyperclip\n",
    "- Pyperclip is python library that help us easily copy and paste string\n",
    "- First Install it using pip\n",
    "\n",
    "```\n",
    "pip install pyperclip\n",
    "```\n",
    "\n",
    "```\n",
    " import pyperclip\n",
    " pyperclip.copy('Hello World') ## Copy Hello World\n",
    " pyperclip.paste()\n",
    "```"
   ]
  },
  {
   "cell_type": "markdown",
   "metadata": {},
   "source": [
    "## string编码和解码"
   ]
  },
  {
   "cell_type": "markdown",
   "metadata": {},
   "source": [
    "### 编码（bytes to string）"
   ]
  },
  {
   "cell_type": "markdown",
   "metadata": {},
   "source": [
    "#### `chr(i)` buildin function 将制定整数unicode编码返回对应的字符string"
   ]
  },
  {
   "cell_type": "code",
   "execution_count": 9,
   "metadata": {},
   "outputs": [
    {
     "name": "stdout",
     "output_type": "stream",
     "text": [
      "a\n"
     ]
    }
   ],
   "source": [
    "print(chr(97))"
   ]
  },
  {
   "cell_type": "markdown",
   "metadata": {},
   "source": [
    "#### `bytes.decode(encoding=\"utf-8\", errors=\"strict\")`\n",
    "- 根据bytes返回默认utf8编码字符串"
   ]
  },
  {
   "cell_type": "code",
   "execution_count": 10,
   "metadata": {},
   "outputs": [
    {
     "data": {
      "text/plain": [
       "'我们'"
      ]
     },
     "execution_count": 10,
     "metadata": {},
     "output_type": "execute_result"
    }
   ],
   "source": [
    "b'\\xe6\\x88\\x91\\xe4\\xbb\\xac'.decode()"
   ]
  },
  {
   "cell_type": "markdown",
   "metadata": {},
   "source": [
    "#### `str(object=b'', encoding='utf-8', errors='strict')` buildin function\n",
    "- 根据bytes返回制定编码方式的字符串"
   ]
  },
  {
   "cell_type": "code",
   "execution_count": 11,
   "metadata": {},
   "outputs": [
    {
     "data": {
      "text/plain": [
       "'我们'"
      ]
     },
     "execution_count": 11,
     "metadata": {},
     "output_type": "execute_result"
    }
   ],
   "source": [
    "str(b'\\xe6\\x88\\x91\\xe4\\xbb\\xac', 'utf8')"
   ]
  },
  {
   "cell_type": "markdown",
   "metadata": {},
   "source": [
    "### 解码（string  to bytes）"
   ]
  },
  {
   "cell_type": "markdown",
   "metadata": {},
   "source": [
    "#### `ord(c)`  buildin function\n",
    "- 根据给定的字符，返回代表该字符的`unicode`十进制整数编码"
   ]
  },
  {
   "cell_type": "code",
   "execution_count": 12,
   "metadata": {},
   "outputs": [
    {
     "name": "stdout",
     "output_type": "stream",
     "text": [
      "97\n",
      "25105\n"
     ]
    }
   ],
   "source": [
    "print(ord('a'))\n",
    "print(ord('我'))"
   ]
  },
  {
   "cell_type": "markdown",
   "metadata": {},
   "source": [
    "#### `str.encode(self, /, encoding='utf-8', errors='strict')` 将string返回默认utf8 unicode字节\n",
    "- 返回`bytes`对象"
   ]
  },
  {
   "cell_type": "code",
   "execution_count": 13,
   "metadata": {},
   "outputs": [
    {
     "data": {
      "text/plain": [
       "b'\\xe6\\x88\\x91\\xe4\\xbb\\xac'"
      ]
     },
     "execution_count": 13,
     "metadata": {},
     "output_type": "execute_result"
    }
   ],
   "source": [
    "'我们'.encode()"
   ]
  },
  {
   "cell_type": "markdown",
   "metadata": {},
   "source": [
    "#### `class bytes([source[, encoding[, errors]]])` buildin function"
   ]
  },
  {
   "cell_type": "code",
   "execution_count": 14,
   "metadata": {},
   "outputs": [
    {
     "data": {
      "text/plain": [
       "b'\\xe6\\x88\\x91\\xe4\\xbb\\xac'"
      ]
     },
     "execution_count": 14,
     "metadata": {},
     "output_type": "execute_result"
    }
   ],
   "source": [
    "bytes('我们', 'utf8')"
   ]
  },
  {
   "cell_type": "code",
   "execution_count": null,
   "metadata": {},
   "outputs": [],
   "source": []
  },
  {
   "cell_type": "code",
   "execution_count": null,
   "metadata": {},
   "outputs": [],
   "source": []
  },
  {
   "cell_type": "code",
   "execution_count": null,
   "metadata": {},
   "outputs": [],
   "source": []
  }
 ],
 "metadata": {
  "hide_input": false,
  "kernelspec": {
   "display_name": "Python 3",
   "language": "python",
   "name": "python3"
  },
  "language_info": {
   "codemirror_mode": {
    "name": "ipython",
    "version": 3
   },
   "file_extension": ".py",
   "mimetype": "text/x-python",
   "name": "python",
   "nbconvert_exporter": "python",
   "pygments_lexer": "ipython3",
   "version": "3.7.1"
  },
  "toc": {
   "base_numbering": 1,
   "nav_menu": {},
   "number_sections": true,
   "sideBar": true,
   "skip_h1_title": false,
   "title_cell": "Table of Contents",
   "title_sidebar": "Contents",
   "toc_cell": true,
   "toc_position": {},
   "toc_section_display": true,
   "toc_window_display": true
  }
 },
 "nbformat": 4,
 "nbformat_minor": 2
}
