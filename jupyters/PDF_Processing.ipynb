{
 "cells": [
  {
   "cell_type": "markdown",
   "metadata": {},
   "source": [
    "# pdfplumber\n",
    "\n",
    "Plumb a PDF for detailed information about each char, rectangle, line, et cetera — and easily extract text and tables"
   ]
  },
  {
   "cell_type": "markdown",
   "metadata": {},
   "source": [
    "[The offical Git repository of pdfplumber](https://github.com/jsvine/pdfplumber)\n",
    "\n",
    "pdfplumber 是按页来处理 pdf 的，可以获得页面的所有文字，并且提供的单独的方法用于提取表格"
   ]
  },
  {
   "cell_type": "markdown",
   "metadata": {},
   "source": [
    "## Installation\n",
    "\n",
    "\n",
    ">```sh\n",
    "pip3 install pdfplumber\n",
    "```"
   ]
  },
  {
   "cell_type": "markdown",
   "metadata": {},
   "source": [
    "## Python library\n",
    "\n",
    "### Basic example"
   ]
  },
  {
   "cell_type": "code",
   "execution_count": 26,
   "metadata": {
    "code_folding": []
   },
   "outputs": [
    {
     "name": "stdout",
     "output_type": "stream",
     "text": [
      "---------- 分割线 ----------\n",
      "---------- 分割线 ----------\n",
      "---------- 分割线 ----------\n"
     ]
    }
   ],
   "source": [
    "import pdfplumber\n",
    "\n",
    "path = r'12w.pdf'\n",
    "pdf = pdfplumber.open(path)\n",
    "\n",
    "for page in pdf.pages:\n",
    "    # 获取当前页面的全部文本信息，包括表格中的文字\n",
    "    #print(page.extract_text())                        \n",
    "\n",
    "    for table in page.extract_tables():\n",
    "        # print(table)\n",
    "        for row in table:\n",
    "            a=1\n",
    "            #print(row)\n",
    "        print('---------- 分割线 ----------')\n",
    "\n",
    "pdf.close()"
   ]
  },
  {
   "cell_type": "markdown",
   "metadata": {},
   "source": [
    "### Loading a PDF\n",
    "\n",
    "`pdfplumber` provides two main ways to load a PDF:\n",
    "\n",
    "- `pdfplumber.open(\"path/to/file.pdf\")`\n",
    "- `pdfplumber.load(file_like_object)`\n",
    "\n",
    "Both methods return an instance of the `pdfplumber.PDF` class."
   ]
  },
  {
   "cell_type": "markdown",
   "metadata": {},
   "source": [
    "### The `pdfplumber.PDF` class\n",
    "\n",
    "The top-level `pdfplumber.PDF` class represents a single PDF and has two main properties:\n",
    "\n",
    "| Property | Description |\n",
    "|----------|-------------|\n",
    "|`.metadata`| A dictionary of metadata key/value pairs, drawn from the PDF's `Info` trailers. Typically includes \"CreationDate,\" \"ModDate,\" \"Producer,\" et cetera.|\n",
    "|`.pages`| A list containing one `pdfplumber.Page` instance per page loaded.|"
   ]
  },
  {
   "cell_type": "markdown",
   "metadata": {},
   "source": [
    "### The `pdfplumber.Page` class\n",
    "\n",
    "The `pdfplumber.Page` class is at the core of `pdfplumber`. Most things you'll do with `pdfplumber` will revolve around this class. It has these main properties:\n",
    "\n",
    "| Property | Description |\n",
    "|----------|-------------|\n",
    "|`.page_number`| The sequential page number, starting with `1` for the first page, `2` for the second, and so on.|\n",
    "|`.width`| The page's width.|\n",
    "|`.height`| The page's height.|\n",
    "|`.objects` / `.chars` / `.lines` / `.rects`| Each of these properties is a list, and each list contains one dictionary for each such object embedded on the page. For more detail, see \"[Objects](#objects)\" below.|\n",
    "\n",
    "... and these main methods:\n",
    "\n",
    "| Method | Description |\n",
    "|--------|-------------|\n",
    "|`.crop(bounding_box)`| Returns a version of the page cropped to the bounding box, which should be expressed as 4-tuple with the values `(x0, top, x1, bottom)`. Cropped pages retain objects that fall at least partly within the bounding box. If an object falls only partly within the box, its dimensions are sliced to fit the bounding box.|\n",
    "|`.within_bbox(bounding_box)`| Similar to `.crop`, but only retains objects that fall *entirely* within the bounding box.|\n",
    "|`.filter(test_function)`| Returns a version of the page with only the `.objects` for which `test_function(obj)` returns `True`.|\n",
    "|`.extract_text(x_tolerance=0, y_tolerance=0)`| Collates all of the page's character objects into a single string. Adds spaces where the difference between the `x1` of one character and the `x0` of the next is greater than `x_tolerance`. Adds newline characters where the difference between the `doctop` of one character and the `doctop` of the next is greater than `y_tolerance`.|\n",
    "|`.extract_words(x_tolerance=0, y_tolerance=0)`| Returns a list of all word-looking things and their bounding boxes. Words are considered to be sequences of characters where the difference between the `x1` of one character and the `x0` of the next is less than or equal to `x_tolerance` *and* where the `doctop` of one character and the `doctop` of the next is less than or equal to `y_tolerance`.|\n",
    "|`.extract_tables(table_settings)`| Extracts tabular data from the page. For more details see \"[Extracting tables](#extracting-tables)\" below.|\n",
    "|`.to_image(**conversion_kwargs)`| Returns an instance of the `PageImage` class. For more details, see \"[Visual debugging](#visual-debugging)\" below. For conversion_kwargs, see [here](http://docs.wand-py.org/en/latest/wand/image.html#wand.image.Image).|"
   ]
  },
  {
   "cell_type": "markdown",
   "metadata": {},
   "source": [
    "### Objects\n",
    "\n",
    "Each instance of `pdfplumber.PDF` and `pdfplumber.Page` provides access to four types of PDF objects. The following properties each return a Python list of the matching objects:\n",
    "\n",
    "- `.chars`, each representing a single text character.\n",
    "- `.annos`, each representing a single annotation-text character.\n",
    "- `.lines`, each representing a single 1-dimensional line.\n",
    "- `.rects`, each representing a single 2-dimensional rectangle.\n",
    "- `.curves`, each representing a series of connected points.\n",
    "\n",
    "Each object is represented as a simple Python `dict`, with the following properties:\n",
    "\n",
    "#### `char` / `anno` properties\n",
    "\n",
    "| Property | Description |\n",
    "|----------|-------------|\n",
    "|`page_number`| Page number on which this character was found.|\n",
    "|`text`| E.g., \"z\", or \"Z\" or \" \".|\n",
    "|`fontname`| Name of the character's font face.|\n",
    "|`size`| Font size.|\n",
    "|`adv`| Equal to text width * the font size * scaling factor.|\n",
    "|`upright`| Whether the character is upright.|\n",
    "|`height`| Height of the character.|\n",
    "|`width`| Width of the character.|\n",
    "|`x0`| Distance of left side of character from left side of page.|\n",
    "|`x1`| Distance of right side of character from left side of page.|\n",
    "|`y0`| Distance of bottom of character from bottom of page.|\n",
    "|`y1`| Distance of top of character from bottom of page.|\n",
    "|`top`| Distance of top of character from top of page.|\n",
    "|`bottom`| Distance of bottom of the character from top of page.|\n",
    "|`doctop`| Distance of top of character from top of document.|\n",
    "|`object_type`| \"char\" / \"anno\"|\n",
    "\n",
    "#### `line` properties\n",
    "\n",
    "| Property | Description |\n",
    "|----------|-------------|\n",
    "|`page_number`| Page number on which this line was found.|\n",
    "|`height`| Height of line.|\n",
    "|`width`| Width of line.|\n",
    "|`x0`| Distance of left-side extremity from left side of page.|\n",
    "|`x1`| Distance of right-side extremity from left side of page.|\n",
    "|`y0`| Distance of bottom extremity from bottom of page.|\n",
    "|`y1`| Distance of top extremity bottom of page.|\n",
    "|`top`| Distance of top of line from top of page.|\n",
    "|`bottom`| Distance of bottom of the line from top of page.|\n",
    "|`doctop`| Distance of top of line from top of document.|\n",
    "|`linewidth`| Thickness of line.|\n",
    "|`object_type`| \"line\"|\n",
    "\n",
    "#### `rect` properties\n",
    "\n",
    "| Property | Description |\n",
    "|----------|-------------|\n",
    "|`page_number`| Page number on which this rectangle was found.|\n",
    "|`height`| Height of rectangle.|\n",
    "|`width`| Width of rectangle.|\n",
    "|`x0`| Distance of left side of rectangle from left side of page.|\n",
    "|`x1`| Distance of right side of rectangle from left side of page.|\n",
    "|`y0`| Distance of bottom of rectangle from bottom of page.|\n",
    "|`y1`| Distance of top of rectangle from bottom of page.|\n",
    "|`top`| Distance of top of rectangle from top of page.|\n",
    "|`bottom`| Distance of bottom of the rectangle from top of page.|\n",
    "|`doctop`| Distance of top of rectangle from top of document.|\n",
    "|`linewidth`| Thickness of line.|\n",
    "|`object_type`| \"rect\"|\n",
    "\n",
    "#### `curve` properties\n",
    "\n",
    "| Property | Description |\n",
    "|----------|-------------|\n",
    "|`page_number`| Page number on which this curve was found.|\n",
    "|`points`| Points — as a list of `(x, top)` tuples — describing the curve.|\n",
    "|`height`| Height of curve's bounding box.|\n",
    "|`width`| Width of curve's bounding box.|\n",
    "|`x0`| Distance of curve's left-most point from left side of page.|\n",
    "|`x1`| Distance of curve's right-most point from left side of the page.|\n",
    "|`y0`| Distance of curve's lowest point from bottom of page.|\n",
    "|`y1`| Distance of curve's highest point from bottom of page.|\n",
    "|`top`| Distance of curve's highest point from top of page.|\n",
    "|`bottom`| Distance of curve's lowest point from top of page.|\n",
    "|`doctop`| Distance of curve's highest point from top of document.|\n",
    "|`linewidth`| Thickness of line.|\n",
    "|`object_type`| \"curve\"|\n",
    "\n",
    "Additionally, both `pdfplumber.PDF` and `pdfplumber.Page` provide access to two derived lists of objects: `.rect_edges` (which decomposes each rectangle into its four lines) and `.edges` (which combines `.rect_edges` with `.lines`)."
   ]
  },
  {
   "cell_type": "markdown",
   "metadata": {},
   "source": [
    "## Visual debugging\n",
    "\n",
    "### Creating a `PageImage` with `.to_image()`\n",
    "\n",
    "To turn any page (including cropped pages) into an `PageImage` object, call `my_page.to_image()`. You can optionally pass a `resolution={integer}` keyword argument, which defaults to 72. E.g.:\n",
    "\n",
    ">im = my_pdf.page[0].to_image(resolution=150)"
   ]
  },
  {
   "cell_type": "markdown",
   "metadata": {},
   "source": [
    "## Extracting tables\n",
    "\n",
    "`pdfplumber`'s approach to table detection borrows heavily from [Anssi Nurminen's master's thesis](http://dspace.cc.tut.fi/dpub/bitstream/handle/123456789/21520/Nurminen.pdf?sequence=3), and is inspired by [Tabula](https://github.com/tabulapdf/tabula-extractor/issues/16). It works like this:\n",
    "\n",
    "1. For any given PDF page, find the lines that are (a) explicitly defined and/or (b) implied by the alignment of words on the page.\n",
    "2. Merge overlapping, or nearly-overlapping, lines.\n",
    "3. Find the intersections of all those lines.\n",
    "4. Find the most granular set of rectangles (i.e., cells) that use these intersections as their vertices.\n",
    "5. Group contiguous cells into tables. \n",
    "\n",
    "### Table-extraction methods\n",
    "\n",
    "`pdfplumber.Page` objects can call the following table methods:\n",
    "\n",
    "| Method | Description |\n",
    "|--------|-------------|\n",
    "|`.find_tables(table_settings={})`|Returns a list of `Table` objects. The `Table` object provides access to the `.cells`, `.rows`, and `.bbox` properties, as well as the `.extract(x_tolerance=3, y_tolerance=3)` method.|\n",
    "|`.extract_tables(table_settings={})`|Returns the text extracted from *all* tables found on the page, represented as a list of lists of lists, with the structure `table -> row -> cell`.|\n",
    "|`.extract_table(table_settings={})`|Returns the text extracted from the *largest* table on the page, represented as a list of lists, with the structure `row -> cell`. (If multiple tables have the same size — as measured by the number of cells — this method returns the table closest to the top of the page.)|\n",
    "|`.debug_tablefinder(table_settings={})`|Returns an instance of the `TableFinder` class, with access to the `.edges`, `.intersections`, `.cells`, and `.tables` properties.|\n",
    "\n",
    "For example:\n",
    "\n",
    "```python\n",
    "pdf = pdfplumber.open(\"path/to/my.pdf\")\n",
    "page = pdf.pages[0]\n",
    "page.extract_table()\n",
    "```\n",
    "\n",
    "[Click here for a more detailed example.](examples/notebooks/extract-table-ca-warn-report.ipynb)\n",
    "\n",
    "### Table-extraction settings\n",
    "\n",
    "By default, `extract_tables` uses the page's vertical and horizontal lines (or rectangle edges) as cell-separators. But the method is highly customizable via the `table_settings` argument. The possible settings, and their defaults:\n",
    "\n",
    "```python\n",
    "{\n",
    "    \"vertical_strategy\": \"lines\", \n",
    "    \"horizontal_strategy\": \"lines\",\n",
    "    \"explicit_vertical_lines\": [],\n",
    "    \"explicit_horizontal_lines\": [],\n",
    "    \"snap_tolerance\": 3,\n",
    "    \"join_tolerance\": 3,\n",
    "    \"edge_min_length\": 3,\n",
    "    \"min_words_vertical\": 3,\n",
    "    \"min_words_horizontal\": 1,\n",
    "    \"keep_blank_chars\": False,\n",
    "    \"text_tolerance\": 3,\n",
    "    \"text_x_tolerance\": None,\n",
    "    \"text_y_tolerance\": None,\n",
    "    \"intersection_tolerance\": 3,\n",
    "    \"intersection_x_tolerance\": None,\n",
    "    \"intersection_y_tolerance\": None,\n",
    "}\n",
    "```\n",
    "\n",
    "| Setting | Description |\n",
    "|---------|-------------|\n",
    "|`\"vertical_strategy\"`| Either `\"lines\"`, `\"lines_strict\"`, `\"text\"`, or `\"explicit\"`. See explanation below.|\n",
    "|`\"horizontal_strategy\"`| Either `\"lines\"`, `\"lines_strict\"`, `\"text\"`, or `\"explicit\"`. See explanation below.|\n",
    "|`\"explicit_vertical_lines\"`| A list of vertical lines that explicitly demarcate cells in the table. Can be used in combination with any of the strategies above. Items in the list should be either numbers — indicating the `x` coordinate of a line the full height of the page — or a dictionary describing the line, with at least the following keys: `x`, `top`, `bottom`. |\n",
    "|`\"explicit_horizontal_lines\"`| A list of vertical lines that explicitly demarcate cells in the table. Can be used in combination with any of the strategies above. Items in the list should be either numbers — indicating the `y` coordinate of a line the full height of the page — or a dictionary describing the line, with at least the following keys: `top`, `x0`, `x1`.|\n",
    "|`\"snap_tolerance\"`| Parallel lines within `snap_tolerance` pixels will be \"snapped\" to the same horizontal or vertical position.|\n",
    "|`\"join_tolerance\"`| Line segments on the same infinite line, and whose ends are within `join_tolerance` of one another, will be \"joined\" into a single line segment.|\n",
    "|`\"edge_min_length\"`| Edges shorter than `edge_min_length` will be discarded before attempting to reconstruct the table.|\n",
    "|`\"min_words_vertical\"`| When using `\"vertical_strategy\": \"text\"`, at least `min_words_vertical` words must share the same alignment.|\n",
    "|`\"min_words_horizontal\"`| When using `\"horizontal_strategy\": \"text\"`, at least `min_words_horizontal` words must share the same alignment.|\n",
    "|`\"keep_blank_chars\"`| When using the `text` strategy, consider `\" \"` chars to be *parts* of words and not word-separators.|\n",
    "|`\"text_tolerance\"`, `\"text_x_tolerance\"`, `\"text_y_tolerance\"`| When the `text` strategy searches for words, it will expect the individual letters in each word to be no more than `text_tolerance` pixels apart.|\n",
    "|`\"intersection_tolerance\"`, `\"intersection_x_tolerance\"`, `\"intersection_y_tolerance\"`| When combining edges into cells, orthogonal edges must be within `intersection_tolerance` pixels to be considered intersecting.|\n",
    "\n",
    "### Table-extraction strategies\n",
    "\n",
    "Both `vertical_strategy` and `horizontal_strategy` accept the following options:\n",
    "\n",
    "| Strategy | Description | \n",
    "|----------|-------------|\n",
    "| `\"lines\"` | Use the page's graphical lines — including the sides of rectangle objects — as the borders of potential table-cells. |\n",
    "| `\"lines_strict\"` | Use the page's graphical lines — but *not* the sides of rectangle objects — as the borders of potential table-cells. |\n",
    "| `\"text\"` | For `vertical_strategy`: Deduce the (imaginary) lines that connect the left, right, or center of words on the page, and use those lines as the borders of potential table-cells. For `horizontal_strategy`, the same but using the tops of words. |\n",
    "| `\"explicit\"` | Only use the lines explicitly defined in `explicit_vertical_lines` / `explicit_horizontal_lines`. |\n",
    "\n",
    "### Notes\n",
    "\n",
    "- Often it's helpful to crop a page — `Page.crop(bounding_box)` — before trying to extract the table.\n",
    "\n",
    "- Table extraction for `pdfplumber` was radically redesigned for `v0.5.0`, and introduced breaking changes.\n"
   ]
  },
  {
   "cell_type": "code",
   "execution_count": 47,
   "metadata": {},
   "outputs": [
    {
     "ename": "ModuleNotFoundError",
     "evalue": "No module named 'Pillow'",
     "output_type": "error",
     "traceback": [
      "\u001b[0;31m---------------------------------------------------------------------------\u001b[0m",
      "\u001b[0;31mModuleNotFoundError\u001b[0m                       Traceback (most recent call last)",
      "\u001b[0;32m<ipython-input-47-f4cbff62aba7>\u001b[0m in \u001b[0;36m<module>\u001b[0;34m\u001b[0m\n\u001b[0;32m----> 1\u001b[0;31m \u001b[0;32mimport\u001b[0m \u001b[0mPillow\u001b[0m\u001b[0;34m\u001b[0m\u001b[0;34m\u001b[0m\u001b[0m\n\u001b[0m",
      "\u001b[0;31mModuleNotFoundError\u001b[0m: No module named 'Pillow'"
     ]
    }
   ],
   "source": []
  },
  {
   "cell_type": "code",
   "execution_count": null,
   "metadata": {},
   "outputs": [],
   "source": []
  },
  {
   "cell_type": "code",
   "execution_count": null,
   "metadata": {},
   "outputs": [],
   "source": []
  },
  {
   "cell_type": "code",
   "execution_count": null,
   "metadata": {},
   "outputs": [],
   "source": []
  },
  {
   "cell_type": "code",
   "execution_count": null,
   "metadata": {},
   "outputs": [],
   "source": []
  },
  {
   "cell_type": "code",
   "execution_count": null,
   "metadata": {},
   "outputs": [],
   "source": []
  },
  {
   "cell_type": "code",
   "execution_count": null,
   "metadata": {},
   "outputs": [],
   "source": []
  },
  {
   "cell_type": "code",
   "execution_count": null,
   "metadata": {},
   "outputs": [],
   "source": []
  }
 ],
 "metadata": {
  "hide_input": false,
  "kernelspec": {
   "display_name": "Python 3",
   "language": "python",
   "name": "python3"
  },
  "language_info": {
   "codemirror_mode": {
    "name": "ipython",
    "version": 3
   },
   "file_extension": ".py",
   "mimetype": "text/x-python",
   "name": "python",
   "nbconvert_exporter": "python",
   "pygments_lexer": "ipython3",
   "version": "3.7.1"
  },
  "toc": {
   "base_numbering": 1,
   "nav_menu": {},
   "number_sections": true,
   "sideBar": true,
   "skip_h1_title": false,
   "title_cell": "Table of Contents",
   "title_sidebar": "Contents",
   "toc_cell": false,
   "toc_position": {},
   "toc_section_display": true,
   "toc_window_display": false
  }
 },
 "nbformat": 4,
 "nbformat_minor": 2
}
